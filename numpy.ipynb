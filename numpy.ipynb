{
 "cells": [
  {
   "cell_type": "markdown",
   "id": "afc91ddd",
   "metadata": {},
   "source": [
    "# Numpy\n",
    "Numpy is a general- purpose array-processing package. It provides a high-performance multidimensional array object, and tools for working with these arrays.\n",
    "\n",
    "It is the fundamental package for scientific computing with Python. It contains among other things:\n",
    "    1. a powerful N-dimensional array object\n",
    "    2. sophisticated (broadcasting) fucntions\n",
    "    3. tools for integrating C/C++ and Fortran code\n",
    "    4. useful for linear algebra, Fourier transform, and random number capabilities\n",
    "    \n",
    "Beside its obvious scientific uses, numpy can also be usedas an efficient multi-dimensional container for generic data. Arbitrary data-type can be defined. This allows numpy to seamlessly and speedliy integrate with a wide variety of databases.\n",
    "\n",
    "### Installation:\n",
    "    pip install numpy\n",
    "   \n",
    "### How to use\n",
    "    import numpy as np"
   ]
  },
  {
   "cell_type": "markdown",
   "id": "68380a3b",
   "metadata": {},
   "source": [
    "# Arrays in NumPy\n",
    "Numpy's main object is the homogenous multidimensional array.\n",
    "It ia atble of elements(usually numbers), all of the same type, indexed by a tuple of positive integers.\n",
    "In numpy dimensions are called axes. The number of axes is rank\n",
    "Numpy's array class is called ndarray. It is also known by the alias array.\n",
    "\n",
    "For example:\n",
    "    [[1,2,3],\n",
    "    4,2,5]]\n",
    "    This array has: rank=2 (as it is 2-dimensional or it has 2 axes)\n",
    "    first dimensional(axis) length=2, second dimension has length =3\n",
    "    overall shape can be expressed as: (2,3)\n",
    "    "
   ]
  },
  {
   "cell_type": "code",
   "execution_count": 14,
   "id": "9d05fead",
   "metadata": {},
   "outputs": [],
   "source": [
    "import numpy as np"
   ]
  },
  {
   "cell_type": "code",
   "execution_count": 15,
   "id": "5ee3dd93",
   "metadata": {},
   "outputs": [],
   "source": [
    "# creating array object\n",
    "arr=np.array([[1,2,3],\n",
    "             [4,2,5]])"
   ]
  },
  {
   "cell_type": "code",
   "execution_count": 16,
   "id": "54df3be5",
   "metadata": {},
   "outputs": [
    {
     "data": {
      "text/plain": [
       "numpy.ndarray"
      ]
     },
     "execution_count": 16,
     "metadata": {},
     "output_type": "execute_result"
    }
   ],
   "source": [
    "# printing type of array\n",
    "type(arr)"
   ]
  },
  {
   "cell_type": "code",
   "execution_count": 17,
   "id": "0170abb5",
   "metadata": {},
   "outputs": [
    {
     "data": {
      "text/plain": [
       "2"
      ]
     },
     "execution_count": 17,
     "metadata": {},
     "output_type": "execute_result"
    }
   ],
   "source": [
    "#printing array dimensions(axes)\n",
    "arr.ndim"
   ]
  },
  {
   "cell_type": "code",
   "execution_count": 18,
   "id": "b3c311df",
   "metadata": {},
   "outputs": [
    {
     "data": {
      "text/plain": [
       "(2, 3)"
      ]
     },
     "execution_count": 18,
     "metadata": {},
     "output_type": "execute_result"
    }
   ],
   "source": [
    "#printing shape of array\n",
    "arr.shape"
   ]
  },
  {
   "cell_type": "code",
   "execution_count": 19,
   "id": "d8c1c83b",
   "metadata": {},
   "outputs": [
    {
     "data": {
      "text/plain": [
       "6"
      ]
     },
     "execution_count": 19,
     "metadata": {},
     "output_type": "execute_result"
    }
   ],
   "source": [
    "#printing size(total elements) of array\n",
    "arr.size"
   ]
  },
  {
   "cell_type": "code",
   "execution_count": 20,
   "id": "b600f74e",
   "metadata": {},
   "outputs": [
    {
     "data": {
      "text/plain": [
       "dtype('int32')"
      ]
     },
     "execution_count": 20,
     "metadata": {},
     "output_type": "execute_result"
    }
   ],
   "source": [
    "#printing type of elements in array\n",
    "arr.dtype"
   ]
  },
  {
   "cell_type": "code",
   "execution_count": 22,
   "id": "fadabdde",
   "metadata": {},
   "outputs": [
    {
     "data": {
      "text/plain": [
       "(3,)"
      ]
     },
     "execution_count": 22,
     "metadata": {},
     "output_type": "execute_result"
    }
   ],
   "source": [
    "arr1=np.array([1,2,3])\n",
    "arr1.shape"
   ]
  },
  {
   "cell_type": "markdown",
   "id": "bfe858d0",
   "metadata": {},
   "source": [
    "# Array creation"
   ]
  },
  {
   "cell_type": "code",
   "execution_count": 24,
   "id": "67851ab3",
   "metadata": {},
   "outputs": [
    {
     "name": "stdout",
     "output_type": "stream",
     "text": [
      "[[1. 2. 4.]\n",
      " [5. 8. 7.]]\n"
     ]
    }
   ],
   "source": [
    "# creating array from list with type float\n",
    "a=np.array([[1,2,4],[5,8,7]],dtype='float')\n",
    "print(a)"
   ]
  },
  {
   "cell_type": "code",
   "execution_count": 27,
   "id": "bf99d999",
   "metadata": {},
   "outputs": [
    {
     "name": "stdout",
     "output_type": "stream",
     "text": [
      "[1 2 3]\n"
     ]
    }
   ],
   "source": [
    "#creating array from tuple\n",
    "b=np.array((1,2,3))\n",
    "print(b)"
   ]
  },
  {
   "cell_type": "code",
   "execution_count": 28,
   "id": "01662857",
   "metadata": {},
   "outputs": [
    {
     "name": "stdout",
     "output_type": "stream",
     "text": [
      "[[0. 0. 0. 0.]\n",
      " [0. 0. 0. 0.]\n",
      " [0. 0. 0. 0.]]\n"
     ]
    }
   ],
   "source": [
    "#creating a 3*4 array with all zeros\n",
    "c=np.zeros((3,4))\n",
    "print(c)"
   ]
  },
  {
   "cell_type": "code",
   "execution_count": 29,
   "id": "894dbc26",
   "metadata": {},
   "outputs": [
    {
     "name": "stdout",
     "output_type": "stream",
     "text": [
      "[[6.+0.j 6.+0.j 6.+0.j]\n",
      " [6.+0.j 6.+0.j 6.+0.j]\n",
      " [6.+0.j 6.+0.j 6.+0.j]]\n"
     ]
    }
   ],
   "source": [
    "#creating a constant calue array of complex type\n",
    "d=np.full((3,3),6,dtype='complex')\n",
    "print(d)"
   ]
  },
  {
   "cell_type": "code",
   "execution_count": 30,
   "id": "d80c4ae0",
   "metadata": {},
   "outputs": [
    {
     "name": "stdout",
     "output_type": "stream",
     "text": [
      "[[0.23921718 0.70845279]\n",
      " [0.54153063 0.15821589]]\n"
     ]
    }
   ],
   "source": [
    "#creating an array with random values\n",
    "e=np.random.random((2,2))\n",
    "print(e)"
   ]
  },
  {
   "cell_type": "code",
   "execution_count": 31,
   "id": "cf147cfc",
   "metadata": {},
   "outputs": [
    {
     "name": "stdout",
     "output_type": "stream",
     "text": [
      "[[1. 1. 1. 1.]\n",
      " [1. 1. 1. 1.]\n",
      " [1. 1. 1. 1.]]\n"
     ]
    }
   ],
   "source": [
    "#creating array with all values as 1\n",
    "f=np.ones((3,4))\n",
    "print(f)"
   ]
  },
  {
   "cell_type": "code",
   "execution_count": 32,
   "id": "5e145fc3",
   "metadata": {},
   "outputs": [
    {
     "data": {
      "text/plain": [
       "array([[1., 0., 0.],\n",
       "       [0., 1., 0.],\n",
       "       [0., 0., 1.]])"
      ]
     },
     "execution_count": 32,
     "metadata": {},
     "output_type": "execute_result"
    }
   ],
   "source": [
    "#creating identity array\n",
    "np.eye(3)"
   ]
  },
  {
   "cell_type": "code",
   "execution_count": 36,
   "id": "ec2c9b83",
   "metadata": {},
   "outputs": [],
   "source": [
    "np.arange? # prss shift+enter"
   ]
  },
  {
   "cell_type": "code",
   "execution_count": 37,
   "id": "1784cced",
   "metadata": {},
   "outputs": [
    {
     "data": {
      "text/plain": [
       "array([ 0,  5, 10, 15, 20, 25])"
      ]
     },
     "execution_count": 37,
     "metadata": {},
     "output_type": "execute_result"
    }
   ],
   "source": [
    "#creating a sequence of integers from 0 to 30 with steps of 5\n",
    "np.arange(0,30,5)"
   ]
  },
  {
   "cell_type": "code",
   "execution_count": 38,
   "id": "3c258fa9",
   "metadata": {},
   "outputs": [
    {
     "data": {
      "text/plain": [
       "array([0.        , 0.55555556, 1.11111111, 1.66666667, 2.22222222,\n",
       "       2.77777778, 3.33333333, 3.88888889, 4.44444444, 5.        ])"
      ]
     },
     "execution_count": 38,
     "metadata": {},
     "output_type": "execute_result"
    }
   ],
   "source": [
    "#creating a sequence of 10 values in range 0 to 5\n",
    "np.linspace(0,5,10)"
   ]
  },
  {
   "cell_type": "code",
   "execution_count": 42,
   "id": "6e6f79c3",
   "metadata": {},
   "outputs": [
    {
     "name": "stdout",
     "output_type": "stream",
     "text": [
      "[[1 2 3 4]\n",
      " [5 2 4 2]\n",
      " [1 2 0 1]]\n",
      "\n",
      "[[[1 2 3]\n",
      "  [4 5 2]]\n",
      "\n",
      " [[4 2 1]\n",
      "  [2 0 1]]]\n"
     ]
    }
   ],
   "source": [
    "#reshaping 3*4 array to 2*2*3 array\n",
    "arr=np.array([[1,2,3,4],\n",
    "            [5,2,4,2],\n",
    "            [1,2,0,1]])\n",
    "newarr=arr.reshape(2,2,3)\n",
    "print(arr)\n",
    "print()\n",
    "print(newarr)"
   ]
  },
  {
   "cell_type": "code",
   "execution_count": 46,
   "id": "5dcaf36b",
   "metadata": {},
   "outputs": [
    {
     "data": {
      "text/plain": [
       "array([1, 2, 3, 4, 5, 6])"
      ]
     },
     "execution_count": 46,
     "metadata": {},
     "output_type": "execute_result"
    }
   ],
   "source": [
    "#flatten array\n",
    "arr=np.array([[1,2,3],[4,5,6]])\n",
    "arr.flatten()"
   ]
  },
  {
   "cell_type": "markdown",
   "id": "d23310aa",
   "metadata": {},
   "source": [
    "# Array Indexing\n",
    "Numpy offers many ways to do array indexing:"
   ]
  },
  {
   "cell_type": "code",
   "execution_count": 47,
   "id": "365de270",
   "metadata": {},
   "outputs": [],
   "source": [
    "arr=np.array([[-1,2,0,4],[4,-0.5,6,0],[2.6,0,7,8],[3,-7,4,2.0]])"
   ]
  },
  {
   "cell_type": "code",
   "execution_count": 54,
   "id": "5bd91eaa",
   "metadata": {},
   "outputs": [
    {
     "name": "stdout",
     "output_type": "stream",
     "text": [
      "[[-1.  0.]\n",
      " [ 4.  6.]]\n"
     ]
    }
   ],
   "source": [
    "#slicing\n",
    "temp=arr[:2,::2]       # [row,colum] (srat:end+1:step)\n",
    "print(temp)"
   ]
  },
  {
   "cell_type": "code",
   "execution_count": 55,
   "id": "a0a957f7",
   "metadata": {},
   "outputs": [
    {
     "name": "stdout",
     "output_type": "stream",
     "text": [
      "[4. 6. 0. 3.]\n"
     ]
    }
   ],
   "source": [
    "#Integer array indexing\n",
    "temp=arr[[0,1,2,3],[3,2,1,0]] #elements at indices (0.3),(1,2),(2,1),(3,0)\n",
    "print(temp)"
   ]
  },
  {
   "cell_type": "code",
   "execution_count": 57,
   "id": "47208436",
   "metadata": {},
   "outputs": [
    {
     "name": "stdout",
     "output_type": "stream",
     "text": [
      "[2.  4.  4.  6.  2.6 7.  8.  3.  4.  2. ]\n"
     ]
    }
   ],
   "source": [
    "#Boolean array indexing\n",
    "cond=arr>0\n",
    "temp=arr[cond]\n",
    "print(temp)"
   ]
  },
  {
   "cell_type": "markdown",
   "id": "e755e9f1",
   "metadata": {},
   "source": [
    "# Basic Operations"
   ]
  },
  {
   "cell_type": "code",
   "execution_count": 58,
   "id": "66718986",
   "metadata": {},
   "outputs": [],
   "source": [
    "a=np.array([1,2,5,3])"
   ]
  },
  {
   "cell_type": "code",
   "execution_count": 59,
   "id": "e3fcc469",
   "metadata": {},
   "outputs": [
    {
     "name": "stdout",
     "output_type": "stream",
     "text": [
      "[2 3 6 4]\n"
     ]
    }
   ],
   "source": [
    "#add 1 to each element\n",
    "print(a+1)"
   ]
  },
  {
   "cell_type": "code",
   "execution_count": 60,
   "id": "266185b9",
   "metadata": {},
   "outputs": [
    {
     "name": "stdout",
     "output_type": "stream",
     "text": [
      "[-2 -1  2  0]\n"
     ]
    }
   ],
   "source": [
    "#subtract 3 from each elemnt\n",
    "print(a-3)"
   ]
  },
  {
   "cell_type": "code",
   "execution_count": 61,
   "id": "804c43f1",
   "metadata": {},
   "outputs": [
    {
     "name": "stdout",
     "output_type": "stream",
     "text": [
      "[10 20 50 30]\n"
     ]
    }
   ],
   "source": [
    "#multiply each elemnt by 10\n",
    "print(a*10)"
   ]
  },
  {
   "cell_type": "code",
   "execution_count": 62,
   "id": "090de4b5",
   "metadata": {},
   "outputs": [
    {
     "name": "stdout",
     "output_type": "stream",
     "text": [
      "[ 1  4 25  9]\n"
     ]
    }
   ],
   "source": [
    "#square each element\n",
    "print(a**2)"
   ]
  },
  {
   "cell_type": "code",
   "execution_count": 63,
   "id": "7fa14071",
   "metadata": {},
   "outputs": [
    {
     "name": "stdout",
     "output_type": "stream",
     "text": [
      "[ 2  4 10  6]\n"
     ]
    }
   ],
   "source": [
    "#modify existing array\n",
    "a*=2\n",
    "print(a)"
   ]
  },
  {
   "cell_type": "code",
   "execution_count": 65,
   "id": "73754afa",
   "metadata": {},
   "outputs": [
    {
     "name": "stdout",
     "output_type": "stream",
     "text": [
      "[[1 3 9]\n",
      " [2 4 6]\n",
      " [3 5 0]]\n"
     ]
    }
   ],
   "source": [
    "#transpose of array\n",
    "b=np.array([[1,2,3],[3,4,5],[9,6,0]])\n",
    "print(b.T)"
   ]
  },
  {
   "cell_type": "code",
   "execution_count": 67,
   "id": "ca177ee5",
   "metadata": {},
   "outputs": [
    {
     "name": "stdout",
     "output_type": "stream",
     "text": [
      "9\n",
      "[6 7 9]\n"
     ]
    }
   ],
   "source": [
    "arr=np.array([[1,5,6],[4,7,2],[3,1,9]])\n",
    "print(arr.max())\n",
    "print(arr.max(axis=1))  #row-wise maximum"
   ]
  },
  {
   "cell_type": "code",
   "execution_count": 70,
   "id": "f746f986",
   "metadata": {},
   "outputs": [
    {
     "name": "stdout",
     "output_type": "stream",
     "text": [
      "[1 1 2]\n"
     ]
    }
   ],
   "source": [
    "print(arr.min(axis=0))  #column-wise minimum"
   ]
  },
  {
   "cell_type": "code",
   "execution_count": 71,
   "id": "9fe23e88",
   "metadata": {},
   "outputs": [
    {
     "name": "stdout",
     "output_type": "stream",
     "text": [
      "38\n"
     ]
    }
   ],
   "source": [
    "print(arr.sum())"
   ]
  },
  {
   "cell_type": "code",
   "execution_count": 72,
   "id": "6dd80766",
   "metadata": {},
   "outputs": [
    {
     "name": "stdout",
     "output_type": "stream",
     "text": [
      "[[ 1  6 12]\n",
      " [ 4 11 13]\n",
      " [ 3  4 13]]\n"
     ]
    }
   ],
   "source": [
    "print(arr.cumsum(axis=1))   #cumulative sum along each row"
   ]
  },
  {
   "cell_type": "code",
   "execution_count": 74,
   "id": "72d36caa",
   "metadata": {},
   "outputs": [
    {
     "name": "stdout",
     "output_type": "stream",
     "text": [
      "[[5 5]\n",
      " [5 5]]\n",
      "[[4 6]\n",
      " [6 4]]\n",
      "[[ 8  5]\n",
      " [20 13]]\n"
     ]
    }
   ],
   "source": [
    "a=np.array([[1,2],[3,4]])\n",
    "b=np.array([[4,3],[2,1]])\n",
    "print(a+b)\n",
    "print(a*b)   #element-wise multiplication\n",
    "print(a.dot(b))   #matrix multiplication"
   ]
  },
  {
   "cell_type": "code",
   "execution_count": 75,
   "id": "9b23790f",
   "metadata": {},
   "outputs": [
    {
     "name": "stdout",
     "output_type": "stream",
     "text": [
      "[0.0000000e+00 1.0000000e+00 1.2246468e-16]\n"
     ]
    }
   ],
   "source": [
    "a=np.array([0,np.pi/2,np.pi])\n",
    "print(np.sin(a))"
   ]
  },
  {
   "cell_type": "code",
   "execution_count": 76,
   "id": "5a27afaf",
   "metadata": {},
   "outputs": [
    {
     "data": {
      "text/plain": [
       "array([ 1.        ,  2.71828183,  7.3890561 , 20.08553692])"
      ]
     },
     "execution_count": 76,
     "metadata": {},
     "output_type": "execute_result"
    }
   ],
   "source": [
    "a=np.array([0,1,2,3])\n",
    "np.exp(a)"
   ]
  },
  {
   "cell_type": "code",
   "execution_count": 77,
   "id": "7b62c5fa",
   "metadata": {},
   "outputs": [
    {
     "data": {
      "text/plain": [
       "array([0.        , 1.        , 1.41421356, 1.73205081])"
      ]
     },
     "execution_count": 77,
     "metadata": {},
     "output_type": "execute_result"
    }
   ],
   "source": [
    "np.sqrt(a)"
   ]
  },
  {
   "cell_type": "markdown",
   "id": "76aab768",
   "metadata": {},
   "source": [
    "# Sorting"
   ]
  },
  {
   "cell_type": "code",
   "execution_count": 80,
   "id": "7144db49",
   "metadata": {},
   "outputs": [
    {
     "name": "stdout",
     "output_type": "stream",
     "text": [
      "[-1  0  1  2  3  4  4  5  6]\n",
      "[[ 1  2  4]\n",
      " [ 3  4  6]\n",
      " [-1  0  5]]\n",
      "[[ 0 -1  2]\n",
      " [ 1  4  5]\n",
      " [ 3  4  6]]\n"
     ]
    }
   ],
   "source": [
    "a=np.array([[1,4,2],[3,4,6],[0,-1,5]])\n",
    "#sorted array\n",
    "print(np.sort(a,axis=None))\n",
    "#rowwise sorted array\n",
    "print(np.sort(a,axis=1))\n",
    "#specifying sorting algorithm\n",
    "print(np.sort(a,axis=0,kind='mergesort'))\n"
   ]
  },
  {
   "cell_type": "code",
   "execution_count": 84,
   "id": "19bf0384",
   "metadata": {},
   "outputs": [
    {
     "name": "stdout",
     "output_type": "stream",
     "text": [
      "[(b'Meghna', 2024, 8.77) (b'Kaushik', 2020, 8.98) (b'Shiva', 2027, 6.8 )]\n"
     ]
    }
   ],
   "source": [
    "#sorting of structured array\n",
    "dtypes=[('name','S10'),('grad_year',int),('cgpa',float)]\n",
    "values=[('Meghna',2024,8.77),('Kaushik',2020,8.98),('Shiva',2027,6.8)]\n",
    "arr=np.array(values,dtype=dtypes)\n",
    "print(arr)"
   ]
  },
  {
   "cell_type": "code",
   "execution_count": 86,
   "id": "c1806f9f",
   "metadata": {},
   "outputs": [
    {
     "name": "stdout",
     "output_type": "stream",
     "text": [
      "[[1 2]\n",
      " [3 4]\n",
      " [5 6]\n",
      " [7 8]]\n",
      "[[1 2 5 6]\n",
      " [3 4 7 8]]\n",
      "[[1 2 5]\n",
      " [3 4 6]]\n",
      "[[1 2 5 6]\n",
      " [3 4 7 8]]\n"
     ]
    }
   ],
   "source": [
    "a=np.array([[1,2],[3,4]])\n",
    "b=np.array([[5,6],[7,8]])\n",
    "#vertical stacking\n",
    "print(np.vstack((a,b)))\n",
    "#horizontal stacking\n",
    "print(np.hstack((a,b)))\n",
    "c=[5,6]\n",
    "#stacking colums\n",
    "print(np.column_stack((a,c)))\n",
    "#concatenation method\n",
    "print(np.concatenate((a,b),1))"
   ]
  },
  {
   "cell_type": "code",
   "execution_count": 88,
   "id": "38fd31a7",
   "metadata": {},
   "outputs": [
    {
     "name": "stdout",
     "output_type": "stream",
     "text": [
      "[array([[1, 3, 5],\n",
      "       [2, 4, 6]]), array([[ 7,  9, 11],\n",
      "       [ 8, 10, 12]])]\n",
      "[array([[ 1,  3,  5,  7,  9, 11]]), array([[ 2,  4,  6,  8, 10, 12]])]\n"
     ]
    }
   ],
   "source": [
    "a=np.array([[1,3,5,7,9,11],[2,4,6,8,10,12]])\n",
    "#horizontal splitting\n",
    "print(np.hsplit(a,2))\n",
    "#vertical splitting\n",
    "print(np.vsplit(a,2))"
   ]
  },
  {
   "cell_type": "code",
   "execution_count": 89,
   "id": "35c7ebf3",
   "metadata": {},
   "outputs": [
    {
     "name": "stdout",
     "output_type": "stream",
     "text": [
      "[[1 2 3 4]\n",
      " [7 6 2 0]]\n",
      "0\n",
      "[1 2 2 0]\n",
      "[1 0]\n"
     ]
    }
   ],
   "source": [
    "a=np.array([[1,2,3,4],[7,6,2,0]])\n",
    "print(a)\n",
    "print(np.min(a))\n",
    "print(np.min(a,axis=0))\n",
    "print(np.min(a,axis=1))"
   ]
  },
  {
   "cell_type": "code",
   "execution_count": 91,
   "id": "01f78781",
   "metadata": {},
   "outputs": [
    {
     "name": "stdout",
     "output_type": "stream",
     "text": [
      "3.0\n",
      "3.0\n",
      "[4.  4.  2.5 2. ]\n",
      "[2.5  3.75]\n"
     ]
    }
   ],
   "source": [
    "b=np.array([1,2,3,4,5])\n",
    "m=sum(b)/5\n",
    "print(m)\n",
    "print(np.mean(b))\n",
    "print(np.mean(a,axis=0))\n",
    "print(np.mean(a,axis=1))"
   ]
  },
  {
   "cell_type": "code",
   "execution_count": 98,
   "id": "4e884ff0",
   "metadata": {
    "scrolled": true
   },
   "outputs": [
    {
     "name": "stdout",
     "output_type": "stream",
     "text": [
      "2.0\n",
      "2.4\n",
      "2.4\n",
      "1.854723699099141\n",
      "1.854723699099141\n",
      "3.440000000000001\n",
      "3.4400000000000004\n"
     ]
    }
   ],
   "source": [
    "c=np.array([1,5,4,2,0])\n",
    "print(np.median(c))\n",
    "print(np.mean(c))\n",
    "w=np.array([1,1,1,1,1])\n",
    "print(np.average(c,weights=w))\n",
    "#weighted avg=n1*w1 + n2*w2 + n3*w3/n1+n1+n3\n",
    "#standard deviation\n",
    "u=np.mean(c)\n",
    "mystd=np.sqrt(np.mean(abs(c-u)**2))\n",
    "print(mystd)\n",
    "print(np.std(c))\n",
    "#variance\n",
    "print(mystd**2)\n",
    "print(np.var(c))"
   ]
  },
  {
   "cell_type": "code",
   "execution_count": 101,
   "id": "f01e9393",
   "metadata": {},
   "outputs": [
    {
     "name": "stdout",
     "output_type": "stream",
     "text": [
      "[ 5  6  7  8  9 10 11 12 13 14]\n",
      "[ 7 14 11  9  5  8  6 12 13 10]\n",
      "[[ 1.5827523  -1.04514683  0.25759352]\n",
      " [-1.9593946  -1.50780766 -0.31529207]]\n",
      "[7 9 6]\n",
      "4\n"
     ]
    }
   ],
   "source": [
    "a=np.arange(10)+5\n",
    "print(a)\n",
    "np.random.seed(1)\n",
    "np.random.shuffle(a)\n",
    "print(a)\n",
    "a=np.random.randn(2,3)\n",
    "print(a)\n",
    "a=np.random.randint(5,10,3)\n",
    "print(a)\n",
    "element=np.random.choice([1,4,3,2,11,27])\n",
    "print(element)"
   ]
  }
 ],
 "metadata": {
  "kernelspec": {
   "display_name": "Python 3 (ipykernel)",
   "language": "python",
   "name": "python3"
  },
  "language_info": {
   "codemirror_mode": {
    "name": "ipython",
    "version": 3
   },
   "file_extension": ".py",
   "mimetype": "text/x-python",
   "name": "python",
   "nbconvert_exporter": "python",
   "pygments_lexer": "ipython3",
   "version": "3.11.5"
  }
 },
 "nbformat": 4,
 "nbformat_minor": 5
}
