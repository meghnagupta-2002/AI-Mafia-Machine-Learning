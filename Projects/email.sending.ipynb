{
 "cells": [
  {
   "cell_type": "markdown",
   "id": "053b0889",
   "metadata": {},
   "source": [
    "SMTP(Simple Message Transfer Protocol) Library will used for sending emails in python.\n",
    "Protocols -Set of rules which govern an opeartion"
   ]
  },
  {
   "cell_type": "code",
   "execution_count": 11,
   "id": "47f59ead",
   "metadata": {},
   "outputs": [
    {
     "name": "stdout",
     "output_type": "stream",
     "text": [
      "Email Sent Succesfully\n"
     ]
    }
   ],
   "source": [
    "import smtplib\n",
    "import getpass   #getting a encypted password from a user\n",
    "from email.mime.text import MIMEText\n",
    "\n",
    "def send_email():\n",
    "    sender='meghnagupta0801@gmail.com'\n",
    "    pwd='ytiq ojax wlae rusk'\n",
    "    subject='Learn.Inspire.Grow'\n",
    "    msg='''\n",
    "    Hello! I am Meghna Gupta. \n",
    "    I have just learned sending email using python. \n",
    "    Hope you have a great day ahead.\n",
    "    \n",
    "    Thank You\n",
    "    Meghna Gupta\n",
    "    '''\n",
    "    \n",
    "    #server initialization    587 is smtp port of gmail\n",
    "    server=smtplib.SMTP('smtp.gmail.com',587)   #starting server/enablinf server\n",
    "    server.starttls()    #handshake\n",
    "    server.login(sender,pwd)\n",
    "    \n",
    "    #draft my message body\n",
    "    msg=MIMEText(msg)\n",
    "    msg['Subject']=subject\n",
    "    msg['From']=sender\n",
    "    msg['To']='pranaykaushik5@gmail.com'\n",
    "    msg.set_param('importance','high value')  #optional\n",
    "    #recipient='pranaykaushik5@gmail.com'\n",
    "    recipients=['meghnagupta0801@gmail.com','meghnagupta0201@gmail.com','ashishgupta2308@yahoo.com','pranaykaushik5@gmail.com']\n",
    "    \n",
    "    server.sendmail(sender,recipients,msg.as_string())\n",
    "    \n",
    "send_email()\n",
    "print('Email Sent Succesfully')"
   ]
  },
  {
   "cell_type": "code",
   "execution_count": null,
   "id": "b2bf8bcc",
   "metadata": {},
   "outputs": [],
   "source": []
  }
 ],
 "metadata": {
  "kernelspec": {
   "display_name": "Python 3 (ipykernel)",
   "language": "python",
   "name": "python3"
  },
  "language_info": {
   "codemirror_mode": {
    "name": "ipython",
    "version": 3
   },
   "file_extension": ".py",
   "mimetype": "text/x-python",
   "name": "python",
   "nbconvert_exporter": "python",
   "pygments_lexer": "ipython3",
   "version": "3.11.5"
  }
 },
 "nbformat": 4,
 "nbformat_minor": 5
}
