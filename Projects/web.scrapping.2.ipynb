{
 "cells": [
  {
   "cell_type": "code",
   "execution_count": 8,
   "id": "cc28a42e",
   "metadata": {},
   "outputs": [],
   "source": [
    "from bs4 import BeautifulSoup\n",
    "import requests\n",
    "import pandas as pd\n",
    "from pandas import Series, DataFrame"
   ]
  },
  {
   "cell_type": "code",
   "execution_count": 9,
   "id": "b5996dc1",
   "metadata": {},
   "outputs": [],
   "source": [
    "# Scrapping country name from website \"scrapethisiste.com\"\n",
    "url = 'https://scrapethissite.com/pages/simple/'"
   ]
  },
  {
   "cell_type": "code",
   "execution_count": null,
   "id": "4b98ee2c",
   "metadata": {},
   "outputs": [],
   "source": [
    "result = requests.get(url)\n",
    "soup=BeautifulSoup(result.content,'lxml')\n",
    "# print(soup)"
   ]
  },
  {
   "cell_type": "code",
   "execution_count": null,
   "id": "25cc9503",
   "metadata": {},
   "outputs": [],
   "source": [
    "a=soup.findAll('section')\n",
    "print(len(a))"
   ]
  },
  {
   "cell_type": "code",
   "execution_count": null,
   "id": "80059469",
   "metadata": {},
   "outputs": [],
   "source": [
    "summaries = a[0].findAll('h3', class_='country-name')\n",
    "series = [ele.text.strip() for ele in summaries]\n",
    "print(series)"
   ]
  },
  {
   "cell_type": "code",
   "execution_count": 6,
   "id": "7a079610",
   "metadata": {},
   "outputs": [],
   "source": [
    "# # Scrapping turtle images from website \"scrapethisiste.com\"\n",
    "# url = 'https://scrapethissite.com/pages/frames/'"
   ]
  },
  {
   "cell_type": "code",
   "execution_count": 7,
   "id": "9e532b5c",
   "metadata": {},
   "outputs": [],
   "source": [
    "# result = requests.get(url)\n",
    "# soup=BeautifulSoup(result.content,'lxml')\n",
    "# print(soup)"
   ]
  }
 ],
 "metadata": {
  "kernelspec": {
   "display_name": "Python 3 (ipykernel)",
   "language": "python",
   "name": "python3"
  },
  "language_info": {
   "codemirror_mode": {
    "name": "ipython",
    "version": 3
   },
   "file_extension": ".py",
   "mimetype": "text/x-python",
   "name": "python",
   "nbconvert_exporter": "python",
   "pygments_lexer": "ipython3",
   "version": "3.11.5"
  }
 },
 "nbformat": 4,
 "nbformat_minor": 5
}
