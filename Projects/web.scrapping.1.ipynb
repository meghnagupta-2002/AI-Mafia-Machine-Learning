{
 "cells": [
  {
   "cell_type": "markdown",
   "id": "afc59679",
   "metadata": {},
   "source": [
    "# Web Scrapping\n",
    "extrating useful information from a website\n",
    "\n",
    "# # Scrapping Considerations\n",
    "1. Check Terms and Conditions of a website before scrapping it\n",
    "2. Are you going to the DOS Attack- Space out your requests\n",
    "3. Keep a check on your scrapers\n",
    "4. Clean up your data, preproceessing data contract\n",
    "5. Configure your scarper each and every time"
   ]
  },
  {
   "cell_type": "markdown",
   "id": "19128474",
   "metadata": {},
   "source": [
    "# BeautifulSoup\n",
    "Allows you to scrap a website efficiently\n",
    "- Ask for a page using url\n",
    "- download/get information of website\n",
    "\n",
    "# lxml parser\n",
    "- parse and get the html(each website will give some format)\n",
    "- extrating and parsing entire codebase\n",
    "\n",
    "# requests\n",
    "- make a request or call to websites server\n",
    "\n"
   ]
  },
  {
   "cell_type": "code",
   "execution_count": 1,
   "id": "9cf3169d",
   "metadata": {},
   "outputs": [],
   "source": [
    "from bs4 import BeautifulSoup\n",
    "import requests\n",
    "import pandas as pd\n",
    "from pandas import Series, DataFrame"
   ]
  },
  {
   "cell_type": "code",
   "execution_count": 2,
   "id": "261c76c1",
   "metadata": {},
   "outputs": [],
   "source": [
    "# Scrapping Website \"Student News Daily\"\n",
    "url = 'https://www.studentnewsdaily.com/archive/daily-news-article/'"
   ]
  },
  {
   "cell_type": "code",
   "execution_count": 3,
   "id": "aebf5d7c",
   "metadata": {},
   "outputs": [],
   "source": [
    "# STEP 1:- Call the API Server using requests module\n",
    "result = requests.get(url)\n",
    "# get request - fetching information(Asking something from server)\n",
    "# post request - submitting information and fetching the results(Google Form)\n",
    "# print(result)\n",
    "# print(result.content)  #tidy html\n",
    "soup=BeautifulSoup(result.content,'lxml')   #parsing tidy html"
   ]
  },
  {
   "cell_type": "code",
   "execution_count": 4,
   "id": "300bdb21",
   "metadata": {},
   "outputs": [],
   "source": [
    "#print(soup) #clean html"
   ]
  },
  {
   "cell_type": "code",
   "execution_count": 5,
   "id": "71e585f4",
   "metadata": {},
   "outputs": [],
   "source": [
    "a = soup.find('div')"
   ]
  },
  {
   "cell_type": "code",
   "execution_count": 6,
   "id": "a2bdc151",
   "metadata": {},
   "outputs": [],
   "source": [
    "#print(a)\n",
    "# summary=content.find(class_='col-md-10 col-lg-10 col-xl-10')\n"
   ]
  },
  {
   "cell_type": "code",
   "execution_count": 7,
   "id": "bdddd421",
   "metadata": {},
   "outputs": [],
   "source": [
    "c=soup.findAll('div')\n",
    "# print(c[2])\n",
    "# print(len(c))"
   ]
  },
  {
   "cell_type": "code",
   "execution_count": 8,
   "id": "9bdae687",
   "metadata": {},
   "outputs": [],
   "source": [
    "d=soup.findAll('section')\n",
    "# print(len(d))\n",
    "# print(d)"
   ]
  },
  {
   "cell_type": "code",
   "execution_count": 9,
   "id": "2573e4bd",
   "metadata": {},
   "outputs": [],
   "source": [
    "summary=d[1].find(class_=\"col-md-10 col-lg-10 col-xl-10\")\n",
    "# print(summary)"
   ]
  },
  {
   "cell_type": "code",
   "execution_count": 10,
   "id": "fca45c34",
   "metadata": {},
   "outputs": [],
   "source": [
    "l=summary.findAll('h4')"
   ]
  },
  {
   "cell_type": "code",
   "execution_count": 11,
   "id": "2970faa9",
   "metadata": {},
   "outputs": [
    {
     "name": "stdout",
     "output_type": "stream",
     "text": [
      "['September 2021', 'June 2021', 'May 2021', 'April 2021', 'March 2021', 'February 2021', 'January 2021', 'December 2020', 'November 2020', 'October 2020', 'September 2020', 'May 2020', 'April 2020', 'March 2020', 'February 2020', 'January 2020', 'December 2019', 'November 2019', 'October 2019', 'September 2019', 'May 2019', 'April 2019', 'March 2019', 'February 2019', 'January 2019', 'December 2018', 'November 2018', 'October 2018', 'September 2018', 'June 2018', 'May 2018', 'April 2018', 'March 2018', 'February 2018']\n"
     ]
    }
   ],
   "source": [
    "series=[ele.get_text() for ele in l]\n",
    "print(series)"
   ]
  },
  {
   "cell_type": "code",
   "execution_count": 12,
   "id": "27a8f54e",
   "metadata": {},
   "outputs": [],
   "source": [
    "# content=soup.find(class_='col-md-10 col-lg-10 col-xl-10')"
   ]
  },
  {
   "cell_type": "code",
   "execution_count": 13,
   "id": "dbe0a8ec",
   "metadata": {},
   "outputs": [],
   "source": [
    "# print(content)"
   ]
  }
 ],
 "metadata": {
  "kernelspec": {
   "display_name": "Python 3 (ipykernel)",
   "language": "python",
   "name": "python3"
  },
  "language_info": {
   "codemirror_mode": {
    "name": "ipython",
    "version": 3
   },
   "file_extension": ".py",
   "mimetype": "text/x-python",
   "name": "python",
   "nbconvert_exporter": "python",
   "pygments_lexer": "ipython3",
   "version": "3.11.5"
  }
 },
 "nbformat": 4,
 "nbformat_minor": 5
}
